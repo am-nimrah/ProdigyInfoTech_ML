{
 "cells": [
  {
   "cell_type": "code",
   "execution_count": 3,
   "metadata": {},
   "outputs": [
    {
     "name": "stdout",
     "output_type": "stream",
     "text": [
      "Training set size: 1174\n",
      "Validation set size: 294\n",
      "New Training set size: 939\n",
      "New Validation set size: 294\n",
      "Test set size: 235\n"
     ]
    }
   ],
   "source": [
    "import os\n",
    "import cv2\n",
    "import numpy as np\n",
    "from sklearn.model_selection import train_test_split\n",
    "\n",
    "# Define paths\n",
    "train_dir = r'F:/prodigy/PRODIGY_ML_03/train'\n",
    "test_dir = r'F:/prodigy/PRODIGY_ML_03/test'\n",
    "\n",
    "# Function to load images and labels based on filename patterns\n",
    "def load_images_and_labels(directory):\n",
    "    images = []\n",
    "    labels = []\n",
    "\n",
    "    for filename in os.listdir(directory):\n",
    "        if filename.endswith('.jpg') or filename.endswith('.png'):\n",
    "            img_path = os.path.join(directory, filename)\n",
    "            img = cv2.imread(img_path, cv2.IMREAD_GRAYSCALE)\n",
    "            img = cv2.resize(img, (64, 64))  # Resize to 64x64\n",
    "            images.append(img.flatten())\n",
    "            \n",
    "            # Infer label from filename\n",
    "            if 'cat' in filename:\n",
    "                labels.append(0)\n",
    "            elif 'dog' in filename:\n",
    "                labels.append(1)\n",
    "\n",
    "    return np.array(images), np.array(labels)\n",
    "\n",
    "# Load training data\n",
    "X_train, y_train = load_images_and_labels(train_dir)\n",
    "\n",
    "# Split training data into training and validation sets\n",
    "X_train, X_val, y_train, y_val = train_test_split(X_train, y_train, test_size=0.2, random_state=42)\n",
    "\n",
    "# Print sizes of training, validation, and test sets\n",
    "print(f\"Training set size: {len(X_train)}\")\n",
    "print(f\"Validation set size: {len(X_val)}\")\n",
    "\n",
    "# You can optionally create a test set from the remaining training data\n",
    "# Here, we use 20% of the original training data for testing\n",
    "X_train, X_test, y_train, y_test = train_test_split(X_train, y_train, test_size=0.2, random_state=42)\n",
    "\n",
    "# Print sizes of training, validation, and test sets after the second split\n",
    "print(f\"New Training set size: {len(X_train)}\")\n",
    "print(f\"New Validation set size: {len(X_val)}\")\n",
    "print(f\"Test set size: {len(X_test)}\")\n"
   ]
  },
  {
   "cell_type": "code",
   "execution_count": 4,
   "metadata": {},
   "outputs": [
    {
     "name": "stdout",
     "output_type": "stream",
     "text": [
      "Validation Accuracy: 0.7585034013605442\n"
     ]
    }
   ],
   "source": [
    "from sklearn.svm import SVC\n",
    "from sklearn.metrics import accuracy_score\n",
    "\n",
    "# Initialize SVM classifier\n",
    "svm_model = SVC(kernel='linear', random_state=42)\n",
    "\n",
    "# Train the SVM model\n",
    "svm_model.fit(X_train, y_train)\n",
    "\n",
    "# Predict on the validation set\n",
    "y_val_pred = svm_model.predict(X_val)\n",
    "\n",
    "# Calculate accuracy on the validation set\n",
    "val_acc = accuracy_score(y_val, y_val_pred)\n",
    "print(f'Validation Accuracy: {val_acc}')\n"
   ]
  },
  {
   "cell_type": "code",
   "execution_count": 5,
   "metadata": {},
   "outputs": [
    {
     "name": "stdout",
     "output_type": "stream",
     "text": [
      "Test Accuracy: 0.7957446808510639\n"
     ]
    }
   ],
   "source": [
    "# Predict on the test set\n",
    "y_test_pred = svm_model.predict(X_test)\n",
    "\n",
    "# Calculate accuracy on the test set\n",
    "test_acc = accuracy_score(y_test, y_test_pred)\n",
    "print(f'Test Accuracy: {test_acc}')\n"
   ]
  },
  {
   "cell_type": "code",
   "execution_count": 6,
   "metadata": {},
   "outputs": [
    {
     "name": "stdout",
     "output_type": "stream",
     "text": [
      "Best parameters found:  {'C': 0.1, 'gamma': 0.001, 'kernel': 'rbf'}\n",
      "Best cross-validation score: 0.83\n",
      "Test Accuracy: 0.8553191489361702\n"
     ]
    }
   ],
   "source": [
    "from sklearn.model_selection import GridSearchCV\n",
    "\n",
    "param_grid = {\n",
    "    'C': [0.1, 1, 10],\n",
    "    'gamma': [0.001, 0.01, 0.1],\n",
    "    'kernel': ['linear', 'rbf']\n",
    "}\n",
    "\n",
    "svm_model = SVC()\n",
    "\n",
    "grid_search = GridSearchCV(estimator=svm_model, param_grid=param_grid, cv=3)\n",
    "grid_search.fit(X_train, y_train)\n",
    "\n",
    "print(\"Best parameters found: \", grid_search.best_params_)\n",
    "print(\"Best cross-validation score: {:.2f}\".format(grid_search.best_score_))\n",
    "\n",
    "best_model = grid_search.best_estimator_\n",
    "y_pred = best_model.predict(X_test)\n",
    "test_acc = accuracy_score(y_test, y_pred)\n",
    "print(f'Test Accuracy: {test_acc}')"
   ]
  }
 ],
 "metadata": {
  "kernelspec": {
   "display_name": "Python 3",
   "language": "python",
   "name": "python3"
  },
  "language_info": {
   "codemirror_mode": {
    "name": "ipython",
    "version": 3
   },
   "file_extension": ".py",
   "mimetype": "text/x-python",
   "name": "python",
   "nbconvert_exporter": "python",
   "pygments_lexer": "ipython3",
   "version": "3.11.9"
  }
 },
 "nbformat": 4,
 "nbformat_minor": 2
}
